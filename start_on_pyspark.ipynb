{
 "cells": [
  {
   "cell_type": "markdown",
   "metadata": {
    "application/vnd.databricks.v1+cell": {
     "cellMetadata": {},
     "inputWidgets": {},
     "nuid": "96816ed7-b08a-4ca3-abb9-f99880c3535d",
     "showTitle": false,
     "tableResultSettingsMap": {},
     "title": ""
    }
   },
   "source": [
    "\n",
    "## Overview\n",
    "\n",
    "This notebook will show you how to create and query a table or DataFrame that you uploaded to DBFS. [DBFS](https://docs.databricks.com/user-guide/dbfs-databricks-file-system.html) is a Databricks File System that allows you to store data for querying inside of Databricks. This notebook assumes that you have a file already inside of DBFS that you would like to read from.\n",
    "\n",
    "This notebook is written in **Python** so the default cell type is Python. However, you can use different languages by using the `%LANGUAGE` syntax. Python, Scala, SQL, and R are all supported."
   ]
  },
  {
   "cell_type": "code",
   "execution_count": 0,
   "metadata": {
    "application/vnd.databricks.v1+cell": {
     "cellMetadata": {
      "byteLimit": 2048000,
      "rowLimit": 10000
     },
     "inputWidgets": {},
     "nuid": "6482be4c-f067-47c9-b0ac-35c938b94601",
     "showTitle": false,
     "tableResultSettingsMap": {},
     "title": ""
    }
   },
   "outputs": [
    {
     "output_type": "stream",
     "name": "stdout",
     "output_type": "stream",
     "text": [
      "+---------+---+------+---------+-----------------+------------------+--------+--------+---------------+---------------+------+-----+------------+------------------+----------+\n|StudentID|Age|Gender|Ethnicity|ParentalEducation|StudyTimeWeekly   |Absences|Tutoring|ParentalSupport|Extracurricular|Sports|Music|Volunteering|GPA               |GradeClass|\n+---------+---+------+---------+-----------------+------------------+--------+--------+---------------+---------------+------+-----+------------+------------------+----------+\n|1001     |17 |1     |0        |2                |19.833722807854713|7       |1       |2              |0              |0     |1    |0           |2.929195591667681 |2.0       |\n|1002     |18 |0     |0        |1                |15.40875605584674 |0       |0       |1              |0              |0     |0    |0           |3.042914833436377 |1.0       |\n|1003     |15 |0     |2        |3                |4.21056976881226  |26      |0       |2              |0              |0     |0    |0           |0.1126022544661815|4.0       |\n|1004     |17 |1     |0        |3                |10.028829473958215|14      |0       |3              |1              |0     |0    |0           |2.0542181397029484|3.0       |\n|1005     |17 |1     |0        |2                |4.6724952729713305|17      |1       |3              |0              |0     |0    |0           |1.2880611817953875|4.0       |\n|1006     |18 |0     |0        |1                |8.191218545250186 |0       |0       |1              |1              |0     |0    |0           |3.0841836144863937|1.0       |\n|1007     |15 |0     |1        |1                |15.601680474699295|10      |0       |3              |0              |1     |0    |0           |2.748237414891583 |2.0       |\n|1008     |15 |1     |1        |4                |15.424496305808074|22      |1       |1              |1              |0     |0    |0           |1.360142712316461 |4.0       |\n|1009     |17 |0     |0        |0                |4.562007558047703 |1       |0       |2              |0              |1     |0    |1           |2.896819189513569 |2.0       |\n|1010     |16 |1     |0        |1                |18.444466363097202|0       |0       |3              |1              |0     |0    |0           |3.5734742103297656|0.0       |\n|1011     |17 |0     |0        |1                |11.851363655296536|11      |0       |1              |0              |0     |0    |0           |2.1471716250185144|3.0       |\n|1012     |17 |0     |0        |1                |7.59848581924029  |15      |0       |2              |0              |0     |0    |1           |1.5595945190402773|4.0       |\n|1013     |17 |0     |1        |1                |10.038711615617213|21      |0       |3              |1              |0     |0    |0           |1.520077814874808 |4.0       |\n|1014     |17 |0     |1        |2                |12.101425068754875|21      |0       |4              |0              |1     |0    |0           |1.7515809583340785|4.0       |\n|1015     |18 |1     |0        |1                |11.197810636915708|9       |1       |2              |0              |0     |0    |0           |2.396788117124796 |3.0       |\n|1016     |15 |0     |0        |2                |9.728100710723563 |17      |1       |0              |0              |1     |0    |0           |1.3415207165346672|4.0       |\n|1017     |18 |0     |3        |1                |10.098656081788002|14      |0       |2              |1              |1     |0    |0           |2.2321752777159762|3.0       |\n|1018     |18 |1     |0        |0                |3.5282382085577235|16      |1       |2              |0              |0     |0    |0           |1.3844041756940335|4.0       |\n|1019     |18 |0     |1        |3                |16.25465808609359 |29      |0       |2              |1              |0     |0    |1           |0.4695533233798704|4.0       |\n|1020     |17 |0     |0        |1                |10.835206398820308|9       |0       |2              |0              |0     |1    |0           |2.3957840945306996|3.0       |\n+---------+---+------+---------+-----------------+------------------+--------+--------+---------------+---------------+------+-----+------------+------------------+----------+\nonly showing top 20 rows\n\n"
     ]
    }
   ],
   "source": [
    "# File location and type\n",
    "file_location = \"/FileStore/tables/data/Student_performance_data__.csv\"\n",
    "file_type = \"csv\"\n",
    "\n",
    "# The applied options are for CSV files. For other file types, these will be ignored.\n",
    "student_df = spark.read.csv(file_location, header=True, inferSchema=True)\n",
    "\n",
    "student_df.show(truncate=False)"
   ]
  },
  {
   "cell_type": "code",
   "execution_count": 0,
   "metadata": {
    "application/vnd.databricks.v1+cell": {
     "cellMetadata": {
      "byteLimit": 2048000,
      "rowLimit": 10000
     },
     "inputWidgets": {},
     "nuid": "108c63e3-b798-4916-82df-de83dd070196",
     "showTitle": false,
     "tableResultSettingsMap": {},
     "title": ""
    }
   },
   "outputs": [
    {
     "output_type": "stream",
     "name": "stdout",
     "output_type": "stream",
     "text": [
      "Out[2]: ['StudentID',\n 'Age',\n 'Gender',\n 'Ethnicity',\n 'ParentalEducation',\n 'StudyTimeWeekly',\n 'Absences',\n 'Tutoring',\n 'ParentalSupport',\n 'Extracurricular',\n 'Sports',\n 'Music',\n 'Volunteering',\n 'GPA',\n 'GradeClass']"
     ]
    }
   ],
   "source": [
    "student_df.columns"
   ]
  },
  {
   "cell_type": "code",
   "execution_count": 0,
   "metadata": {
    "application/vnd.databricks.v1+cell": {
     "cellMetadata": {
      "byteLimit": 2048000,
      "rowLimit": 10000
     },
     "inputWidgets": {},
     "nuid": "ceae4999-e182-4a39-9c86-e9ce765ef60e",
     "showTitle": false,
     "tableResultSettingsMap": {},
     "title": ""
    }
   },
   "outputs": [
    {
     "output_type": "stream",
     "name": "stdout",
     "output_type": "stream",
     "text": [
      "Out[3]: [('StudentID', 'int'),\n ('Age', 'int'),\n ('Gender', 'int'),\n ('Ethnicity', 'int'),\n ('ParentalEducation', 'int'),\n ('StudyTimeWeekly', 'double'),\n ('Absences', 'int'),\n ('Tutoring', 'int'),\n ('ParentalSupport', 'int'),\n ('Extracurricular', 'int'),\n ('Sports', 'int'),\n ('Music', 'int'),\n ('Volunteering', 'int'),\n ('GPA', 'double'),\n ('GradeClass', 'double')]"
     ]
    }
   ],
   "source": [
    "#check column types\n",
    "student_df.dtypes"
   ]
  },
  {
   "cell_type": "code",
   "execution_count": 0,
   "metadata": {
    "application/vnd.databricks.v1+cell": {
     "cellMetadata": {
      "byteLimit": 2048000,
      "rowLimit": 10000
     },
     "inputWidgets": {},
     "nuid": "5c335551-9767-49ff-a6e7-45aaf5e938f7",
     "showTitle": false,
     "tableResultSettingsMap": {},
     "title": ""
    }
   },
   "outputs": [
    {
     "output_type": "stream",
     "name": "stdout",
     "output_type": "stream",
     "text": [
      "root\n |-- StudentID: integer (nullable = true)\n |-- Age: integer (nullable = true)\n |-- Gender: integer (nullable = true)\n |-- Ethnicity: integer (nullable = true)\n |-- ParentalEducation: integer (nullable = true)\n |-- StudyTimeWeekly: double (nullable = true)\n |-- Absences: integer (nullable = true)\n |-- Tutoring: integer (nullable = true)\n |-- ParentalSupport: integer (nullable = true)\n |-- Extracurricular: integer (nullable = true)\n |-- Sports: integer (nullable = true)\n |-- Music: integer (nullable = true)\n |-- Volunteering: integer (nullable = true)\n |-- GPA: double (nullable = true)\n |-- GradeClass: double (nullable = true)\n\n"
     ]
    }
   ],
   "source": [
    "#another way to get column types\n",
    "student_df.printSchema()"
   ]
  },
  {
   "cell_type": "markdown",
   "metadata": {
    "application/vnd.databricks.v1+cell": {
     "cellMetadata": {},
     "inputWidgets": {},
     "nuid": "0dff810e-ade3-4c68-9ad1-7ee1043829aa",
     "showTitle": false,
     "tableResultSettingsMap": {},
     "title": ""
    }
   },
   "source": [
    "## EXPLORATORY ANALYSIS"
   ]
  },
  {
   "cell_type": "code",
   "execution_count": 0,
   "metadata": {
    "application/vnd.databricks.v1+cell": {
     "cellMetadata": {
      "byteLimit": 2048000,
      "rowLimit": 10000
     },
     "inputWidgets": {},
     "nuid": "8d556092-a40e-414d-b8eb-95e40ede8bd8",
     "showTitle": false,
     "tableResultSettingsMap": {},
     "title": ""
    }
   },
   "outputs": [
    {
     "output_type": "display_data",
     "data": {
      "text/html": [
       "<style scoped>\n",
       "  .table-result-container {\n",
       "    max-height: 300px;\n",
       "    overflow: auto;\n",
       "  }\n",
       "  table, th, td {\n",
       "    border: 1px solid black;\n",
       "    border-collapse: collapse;\n",
       "  }\n",
       "  th, td {\n",
       "    padding: 5px;\n",
       "  }\n",
       "  th {\n",
       "    text-align: left;\n",
       "  }\n",
       "</style><div class='table-result-container'><table class='table-result'><thead style='background-color: white'><tr><th>summary</th><th>StudentID</th><th>Age</th><th>Gender</th><th>Ethnicity</th><th>ParentalEducation</th><th>StudyTimeWeekly</th><th>Absences</th><th>Tutoring</th><th>ParentalSupport</th><th>Extracurricular</th><th>Sports</th><th>Music</th><th>Volunteering</th><th>GPA</th><th>GradeClass</th></tr></thead><tbody><tr><td>count</td><td>2392</td><td>2392</td><td>2392</td><td>2392</td><td>2392</td><td>2392</td><td>2392</td><td>2392</td><td>2392</td><td>2392</td><td>2392</td><td>2392</td><td>2392</td><td>2392</td><td>2392</td></tr><tr><td>mean</td><td>2196.5</td><td>16.468645484949832</td><td>0.5108695652173914</td><td>0.8775083612040134</td><td>1.74623745819398</td><td>9.771991919431747</td><td>14.54138795986622</td><td>0.30142140468227424</td><td>2.1220735785953178</td><td>0.3833612040133779</td><td>0.30351170568561875</td><td>0.19690635451505017</td><td>0.15719063545150502</td><td>1.9061863027265407</td><td>2.983695652173913</td></tr><tr><td>stddev</td><td>690.6552444357942</td><td>1.1237983798555546</td><td>0.4999863617146026</td><td>1.028475775850354</td><td>1.0004110692382984</td><td>5.65277423586026</td><td>8.467417379917379</td><td>0.45897124941464834</td><td>1.1228128542119156</td><td>0.4863067551542234</td><td>0.45987037509191353</td><td>0.39774411290298195</td><td>0.36405651770649744</td><td>0.9151558203249597</td><td>1.233907560226087</td></tr><tr><td>min</td><td>1001</td><td>15</td><td>0</td><td>0</td><td>0</td><td>0.0010565386459360226</td><td>0</td><td>0</td><td>0</td><td>0</td><td>0</td><td>0</td><td>0</td><td>0.0</td><td>0.0</td></tr><tr><td>max</td><td>3392</td><td>18</td><td>1</td><td>3</td><td>4</td><td>19.978093995261535</td><td>29</td><td>1</td><td>4</td><td>1</td><td>1</td><td>1</td><td>1</td><td>4.0</td><td>4.0</td></tr></tbody></table></div>"
      ]
     },
     "metadata": {
      "application/vnd.databricks.v1+output": {
       "addedWidgets": {},
       "aggData": [],
       "aggError": "",
       "aggOverflow": false,
       "aggSchema": [],
       "aggSeriesLimitReached": false,
       "aggType": "",
       "arguments": {},
       "columnCustomDisplayInfos": {},
       "data": [
        [
         "count",
         "2392",
         "2392",
         "2392",
         "2392",
         "2392",
         "2392",
         "2392",
         "2392",
         "2392",
         "2392",
         "2392",
         "2392",
         "2392",
         "2392",
         "2392"
        ],
        [
         "mean",
         "2196.5",
         "16.468645484949832",
         "0.5108695652173914",
         "0.8775083612040134",
         "1.74623745819398",
         "9.771991919431747",
         "14.54138795986622",
         "0.30142140468227424",
         "2.1220735785953178",
         "0.3833612040133779",
         "0.30351170568561875",
         "0.19690635451505017",
         "0.15719063545150502",
         "1.9061863027265407",
         "2.983695652173913"
        ],
        [
         "stddev",
         "690.6552444357942",
         "1.1237983798555546",
         "0.4999863617146026",
         "1.028475775850354",
         "1.0004110692382984",
         "5.65277423586026",
         "8.467417379917379",
         "0.45897124941464834",
         "1.1228128542119156",
         "0.4863067551542234",
         "0.45987037509191353",
         "0.39774411290298195",
         "0.36405651770649744",
         "0.9151558203249597",
         "1.233907560226087"
        ],
        [
         "min",
         "1001",
         "15",
         "0",
         "0",
         "0",
         "0.0010565386459360226",
         "0",
         "0",
         "0",
         "0",
         "0",
         "0",
         "0",
         "0.0",
         "0.0"
        ],
        [
         "max",
         "3392",
         "18",
         "1",
         "3",
         "4",
         "19.978093995261535",
         "29",
         "1",
         "4",
         "1",
         "1",
         "1",
         "1",
         "4.0",
         "4.0"
        ]
       ],
       "datasetInfos": [],
       "dbfsResultPath": null,
       "isJsonSchema": true,
       "metadata": {},
       "overflow": false,
       "plotOptions": {
        "customPlotOptions": {},
        "displayType": "table",
        "pivotAggregation": null,
        "pivotColumns": null,
        "xColumns": null,
        "yColumns": null
       },
       "removedWidgets": [],
       "schema": [
        {
         "metadata": "{}",
         "name": "summary",
         "type": "\"string\""
        },
        {
         "metadata": "{}",
         "name": "StudentID",
         "type": "\"string\""
        },
        {
         "metadata": "{}",
         "name": "Age",
         "type": "\"string\""
        },
        {
         "metadata": "{}",
         "name": "Gender",
         "type": "\"string\""
        },
        {
         "metadata": "{}",
         "name": "Ethnicity",
         "type": "\"string\""
        },
        {
         "metadata": "{}",
         "name": "ParentalEducation",
         "type": "\"string\""
        },
        {
         "metadata": "{}",
         "name": "StudyTimeWeekly",
         "type": "\"string\""
        },
        {
         "metadata": "{}",
         "name": "Absences",
         "type": "\"string\""
        },
        {
         "metadata": "{}",
         "name": "Tutoring",
         "type": "\"string\""
        },
        {
         "metadata": "{}",
         "name": "ParentalSupport",
         "type": "\"string\""
        },
        {
         "metadata": "{}",
         "name": "Extracurricular",
         "type": "\"string\""
        },
        {
         "metadata": "{}",
         "name": "Sports",
         "type": "\"string\""
        },
        {
         "metadata": "{}",
         "name": "Music",
         "type": "\"string\""
        },
        {
         "metadata": "{}",
         "name": "Volunteering",
         "type": "\"string\""
        },
        {
         "metadata": "{}",
         "name": "GPA",
         "type": "\"string\""
        },
        {
         "metadata": "{}",
         "name": "GradeClass",
         "type": "\"string\""
        }
       ],
       "type": "table"
      }
     },
     "output_type": "display_data"
    }
   ],
   "source": [
    "#quick statistical summary of the data\n",
    "\n",
    "display(student_df.describe())"
   ]
  },
  {
   "cell_type": "code",
   "execution_count": 0,
   "metadata": {
    "application/vnd.databricks.v1+cell": {
     "cellMetadata": {
      "byteLimit": 2048000,
      "rowLimit": 10000
     },
     "inputWidgets": {},
     "nuid": "85babebc-fe92-4a52-bb66-d5d4254264c9",
     "showTitle": false,
     "tableResultSettingsMap": {},
     "title": ""
    }
   },
   "outputs": [
    {
     "output_type": "stream",
     "name": "stdout",
     "output_type": "stream",
     "text": [
      "+-------------+\n|sum(Absences)|\n+-------------+\n|        34783|\n+-------------+\n\n"
     ]
    }
   ],
   "source": [
    "student_df.agg({\"Absences\": \"sum\"}).show()"
   ]
  },
  {
   "cell_type": "code",
   "execution_count": 0,
   "metadata": {
    "application/vnd.databricks.v1+cell": {
     "cellMetadata": {
      "byteLimit": 2048000,
      "rowLimit": 10000
     },
     "inputWidgets": {},
     "nuid": "c94cea33-ef01-4c69-9d76-8e557c6a8954",
     "showTitle": false,
     "tableResultSettingsMap": {},
     "title": ""
    }
   },
   "outputs": [
    {
     "output_type": "stream",
     "name": "stdout",
     "output_type": "stream",
     "text": [
      "+------+-------------+\n|Gender|sum(Absences)|\n+------+-------------+\n|     1|        17987|\n|     0|        16796|\n+------+-------------+\n\n"
     ]
    }
   ],
   "source": [
    "#absentees by gender\n",
    "\n",
    "student_df.groupby([\"Gender\"]).sum(\"Absences\").show()"
   ]
  },
  {
   "cell_type": "code",
   "execution_count": 0,
   "metadata": {
    "application/vnd.databricks.v1+cell": {
     "cellMetadata": {
      "byteLimit": 2048000,
      "rowLimit": 10000
     },
     "inputWidgets": {},
     "nuid": "345ac70a-f754-4cb9-9e30-c3da8a1c8210",
     "showTitle": false,
     "tableResultSettingsMap": {},
     "title": ""
    }
   },
   "outputs": [
    {
     "output_type": "display_data",
     "data": {
      "text/html": [
       "<style scoped>\n",
       "  .table-result-container {\n",
       "    max-height: 300px;\n",
       "    overflow: auto;\n",
       "  }\n",
       "  table, th, td {\n",
       "    border: 1px solid black;\n",
       "    border-collapse: collapse;\n",
       "  }\n",
       "  th, td {\n",
       "    padding: 5px;\n",
       "  }\n",
       "  th {\n",
       "    text-align: left;\n",
       "  }\n",
       "</style><div class='table-result-container'><table class='table-result'><thead style='background-color: white'><tr><th>Age</th><th>sum(Absences)</th></tr></thead><tbody><tr><td>16</td><td>8781</td></tr><tr><td>15</td><td>9167</td></tr><tr><td>17</td><td>8464</td></tr><tr><td>18</td><td>8371</td></tr></tbody></table></div>"
      ]
     },
     "metadata": {
      "application/vnd.databricks.v1+output": {
       "addedWidgets": {},
       "aggData": [],
       "aggError": "",
       "aggOverflow": false,
       "aggSchema": [],
       "aggSeriesLimitReached": false,
       "aggType": "",
       "arguments": {},
       "columnCustomDisplayInfos": {},
       "data": [
        [
         16,
         8781
        ],
        [
         15,
         9167
        ],
        [
         17,
         8464
        ],
        [
         18,
         8371
        ]
       ],
       "datasetInfos": [],
       "dbfsResultPath": null,
       "isJsonSchema": true,
       "metadata": {},
       "overflow": false,
       "plotOptions": {
        "customPlotOptions": {},
        "displayType": "table",
        "pivotAggregation": null,
        "pivotColumns": null,
        "xColumns": null,
        "yColumns": null
       },
       "removedWidgets": [],
       "schema": [
        {
         "metadata": "{}",
         "name": "Age",
         "type": "\"integer\""
        },
        {
         "metadata": "{}",
         "name": "sum(Absences)",
         "type": "\"long\""
        }
       ],
       "type": "table"
      }
     },
     "output_type": "display_data"
    }
   ],
   "source": [
    "#absentees by age\n",
    "\n",
    "display(student_df.groupby(['Age']).sum(\"Absences\"))"
   ]
  },
  {
   "cell_type": "code",
   "execution_count": 0,
   "metadata": {
    "application/vnd.databricks.v1+cell": {
     "cellMetadata": {
      "byteLimit": 2048000,
      "rowLimit": 10000
     },
     "inputWidgets": {},
     "nuid": "1d4998be-a900-4647-8c67-4cd26b39f1ef",
     "showTitle": false,
     "tableResultSettingsMap": {},
     "title": ""
    }
   },
   "outputs": [
    {
     "output_type": "stream",
     "name": "stdout",
     "output_type": "stream",
     "text": [
      "+------+-----------------+\n|Gender|  avg(GradeClass)|\n+------+-----------------+\n|     1|3.011456628477905|\n|     0|2.954700854700855|\n+------+-----------------+\n\n"
     ]
    }
   ],
   "source": [
    "#average grade by gender\n",
    "\n",
    "student_df.groupBy(\"Gender\").avg(\"GradeClass\").show()"
   ]
  },
  {
   "cell_type": "code",
   "execution_count": 0,
   "metadata": {
    "application/vnd.databricks.v1+cell": {
     "cellMetadata": {
      "byteLimit": 2048000,
      "rowLimit": 10000
     },
     "inputWidgets": {},
     "nuid": "955fae64-349a-4d9f-b052-344ce9020393",
     "showTitle": false,
     "tableResultSettingsMap": {},
     "title": ""
    }
   },
   "outputs": [
    {
     "output_type": "stream",
     "name": "stdout",
     "output_type": "stream",
     "text": [
      "+----------+-----+\n|GradeClass|count|\n+----------+-----+\n|       4.0| 1211|\n|       3.0|  414|\n|       2.0|  391|\n|       1.0|  269|\n|       0.0|  107|\n+----------+-----+\n\n"
     ]
    }
   ],
   "source": [
    "#distribution of grades\n",
    "\n",
    "student_df.groupby(\"GradeClass\").count().orderBy(\"count\", ascending=False).show()"
   ]
  },
  {
   "cell_type": "code",
   "execution_count": 0,
   "metadata": {
    "application/vnd.databricks.v1+cell": {
     "cellMetadata": {
      "byteLimit": 2048000,
      "rowLimit": 10000
     },
     "inputWidgets": {},
     "nuid": "bbf5f7c3-6f9d-44b3-9590-3814f087b003",
     "showTitle": false,
     "tableResultSettingsMap": {},
     "title": ""
    }
   },
   "outputs": [
    {
     "output_type": "stream",
     "name": "stdout",
     "output_type": "stream",
     "text": [
      "+---+--------------------+-----------------+--------------------+\n|Age|avg(StudyTimeWeekly)|sum(Volunteering)|avg(Extracurricular)|\n+---+--------------------+-----------------+--------------------+\n| 16|   9.852193787506788|               80|   0.403035413153457|\n| 15|   9.837933572428415|              102|  0.3904761904761905|\n| 17|   9.573587542323894|               97| 0.37649063032367974|\n| 18|   9.819002950713351|               97| 0.36254295532646047|\n+---+--------------------+-----------------+--------------------+\n\n"
     ]
    }
   ],
   "source": [
    "#grouping by age and aggregating by multiple columns\n",
    "\n",
    "student_df.groupby(\"Age\").agg({\"StudyTimeWeekly\": \"avg\", \"Volunteering\": \"sum\", \"Extracurricular\": \"avg\"}).show()"
   ]
  },
  {
   "cell_type": "code",
   "execution_count": 0,
   "metadata": {
    "application/vnd.databricks.v1+cell": {
     "cellMetadata": {
      "byteLimit": 2048000,
      "rowLimit": 10000
     },
     "inputWidgets": {},
     "nuid": "bef113ad-3708-4758-a54f-95db76547dfa",
     "showTitle": false,
     "tableResultSettingsMap": {},
     "title": ""
    }
   },
   "outputs": [
    {
     "output_type": "stream",
     "name": "stdout",
     "output_type": "stream",
     "text": [
      "+---+------------------+------------------+----------------------------------+\n|Age|Average Study Time|Total Charity Time|Average Extracurricular Activities|\n+---+------------------+------------------+----------------------------------+\n| 16| 9.852193787506788|                80|                 0.403035413153457|\n| 15| 9.837933572428415|               102|                0.3904761904761905|\n| 18| 9.819002950713351|                97|               0.36254295532646047|\n| 17| 9.573587542323894|                97|               0.37649063032367974|\n+---+------------------+------------------+----------------------------------+\n\n"
     ]
    }
   ],
   "source": [
    "#grouping by age and aggregating by multiple columns..USING Alias\n",
    "from pyspark.sql.functions import avg\n",
    "\n",
    "student_df.groupby(\"Age\").agg(avg(\"StudyTimeWeekly\").alias(\"Average Study Time\"),\n",
    "                              sum(\"Volunteering\").alias(\"Total Charity Time\"),\n",
    "                              avg(\"Extracurricular\").alias(\"Average Extracurricular Activities\"))\\\n",
    "                                  .orderBy(\"Average Study Time\", ascending=False).show()"
   ]
  },
  {
   "cell_type": "code",
   "execution_count": 0,
   "metadata": {
    "application/vnd.databricks.v1+cell": {
     "cellMetadata": {
      "byteLimit": 2048000,
      "rowLimit": 10000
     },
     "inputWidgets": {},
     "nuid": "ca7b81d7-ef2f-4dcb-b499-a490faded10c",
     "showTitle": false,
     "tableResultSettingsMap": {},
     "title": ""
    }
   },
   "outputs": [
    {
     "output_type": "stream",
     "name": "stdout",
     "output_type": "stream",
     "text": [
      "+------------------+-----+\n|               GPA|count|\n+------------------+-----+\n|               0.0|   16|\n|               4.0|    7|\n|3.2839165218973836|    1|\n|1.5504493308923313|    1|\n| 1.011253194616751|    1|\n|1.4444766951837589|    1|\n| 2.917010983412451|    1|\n|1.1509661314441684|    1|\n| 0.741527556169066|    1|\n|0.7695898642280781|    1|\n|2.4629431182407853|    1|\n|1.2656779091994341|    1|\n|1.5258378621561266|    1|\n| 2.396139095071558|    1|\n|0.5177931283748711|    1|\n|1.5743060882588613|    1|\n|0.9430459197705603|    1|\n| 2.512488758731327|    1|\n|2.4571875145361584|    1|\n|1.7333640465600053|    1|\n+------------------+-----+\nonly showing top 20 rows\n\n"
     ]
    }
   ],
   "source": [
    "student_df.groupby(\"GPA\").count().orderBy(\"count\", ascending=False).show()"
   ]
  },
  {
   "cell_type": "code",
   "execution_count": 0,
   "metadata": {
    "application/vnd.databricks.v1+cell": {
     "cellMetadata": {
      "byteLimit": 2048000,
      "rowLimit": 10000
     },
     "inputWidgets": {},
     "nuid": "3bc1b404-d225-4afd-a522-91b5577f2a11",
     "showTitle": false,
     "tableResultSettingsMap": {},
     "title": ""
    }
   },
   "outputs": [
    {
     "output_type": "stream",
     "name": "stdout",
     "output_type": "stream",
     "text": [
      "+---------+---+------------------+---------+\n|StudentID|Age|               GPA|GPA_group|\n+---------+---+------------------+---------+\n|     1001| 17| 2.929195591667681|   Failed|\n|     1002| 18| 3.042914833436377|   Failed|\n|     1003| 15|0.1126022544661815|   Failed|\n|     1004| 17|2.0542181397029484|   Failed|\n|     1005| 17|1.2880611817953875|   Failed|\n|     1006| 18|3.0841836144863937|   Failed|\n|     1007| 15| 2.748237414891583|   Failed|\n|     1008| 15| 1.360142712316461|   Failed|\n|     1009| 17| 2.896819189513569|   Failed|\n|     1010| 16|3.5734742103297656|   passed|\n|     1011| 17|2.1471716250185144|   Failed|\n|     1012| 17|1.5595945190402773|   Failed|\n|     1013| 17| 1.520077814874808|   Failed|\n|     1014| 17|1.7515809583340785|   Failed|\n|     1015| 18| 2.396788117124796|   Failed|\n|     1016| 15|1.3415207165346672|   Failed|\n|     1017| 18|2.2321752777159762|   Failed|\n|     1018| 18|1.3844041756940335|   Failed|\n|     1019| 18|0.4695533233798704|   Failed|\n|     1020| 17|2.3957840945306996|   Failed|\n+---------+---+------------------+---------+\nonly showing top 20 rows\n\n"
     ]
    }
   ],
   "source": [
    "from pyspark.sql.functions import when, col\n",
    "#Categorising students by their GPA\n",
    "#creating new column -- when/otherwise\n",
    "\n",
    "\n",
    "passed_failed = student_df.withColumn(\"GPA_group\", when(col(\"GPA\")>3.4, \"passed\").otherwise(\"Failed\"))\n",
    "\n",
    "passed_failed.select([\"StudentID\", \"Age\", \"GPA\", \"GPA_group\"]).show()"
   ]
  },
  {
   "cell_type": "code",
   "execution_count": 0,
   "metadata": {
    "application/vnd.databricks.v1+cell": {
     "cellMetadata": {
      "byteLimit": 2048000,
      "rowLimit": 10000
     },
     "inputWidgets": {},
     "nuid": "1c680243-2ad7-4e03-ab39-96a17ad488c1",
     "showTitle": false,
     "tableResultSettingsMap": {},
     "title": ""
    }
   },
   "outputs": [
    {
     "output_type": "stream",
     "name": "stdout",
     "output_type": "stream",
     "text": [
      "+---------+---+------+---------+-----------------+---------------+--------+--------+---------------+---------------+------+-----+------------+---+----------+\n|StudentID|Age|Gender|Ethnicity|ParentalEducation|StudyTimeWeekly|Absences|Tutoring|ParentalSupport|Extracurricular|Sports|Music|Volunteering|GPA|GradeClass|\n+---------+---+------+---------+-----------------+---------------+--------+--------+---------------+---------------+------+-----+------------+---+----------+\n|        0|  0|     0|        0|                0|              0|       0|       0|              0|              0|     0|    0|           0|  0|         0|\n+---------+---+------+---------+-----------------+---------------+--------+--------+---------------+---------------+------+-----+------------+---+----------+\n\n"
     ]
    }
   ],
   "source": [
    "#count of null values in each column\n",
    "null_counts = student_df.select([\n",
    "    sum(when(col(c).isNull(), 1).otherwise(0)).alias(c) for c in student_df.columns\n",
    "])\n",
    "\n",
    "null_counts.show()\n"
   ]
  },
  {
   "cell_type": "code",
   "execution_count": 0,
   "metadata": {
    "application/vnd.databricks.v1+cell": {
     "cellMetadata": {
      "byteLimit": 2048000,
      "rowLimit": 10000
     },
     "inputWidgets": {},
     "nuid": "0b807dad-f919-44a5-b94d-2ac104640549",
     "showTitle": false,
     "tableResultSettingsMap": {},
     "title": ""
    }
   },
   "outputs": [
    {
     "output_type": "stream",
     "name": "stdout",
     "output_type": "stream",
     "text": [
      "+---------+---+------+---------+--------+--------+---------------+---------------+------+-----+---+----------+\n|StudentID|Age|Gender|Ethnicity|Absences|Tutoring|ParentalSupport|Extracurricular|Sports|Music|GPA|GradeClass|\n+---------+---+------+---------+--------+--------+---------------+---------------+------+-----+---+----------+\n|        0|  0|     0|        0|       0|       0|              0|              0|     0|    0|  0|         0|\n+---------+---+------+---------+--------+--------+---------------+---------------+------+-----+---+----------+\n\n"
     ]
    }
   ],
   "source": [
    "#Drop Columns in null_count df\n",
    "\n",
    "null_counts.drop('ParentalEducation', \"Volunteering\", \"StudyTimeWeekly\").show()"
   ]
  },
  {
   "cell_type": "code",
   "execution_count": 0,
   "metadata": {
    "application/vnd.databricks.v1+cell": {
     "cellMetadata": {
      "byteLimit": 2048000,
      "rowLimit": 10000
     },
     "inputWidgets": {},
     "nuid": "8d31224a-6e2a-4005-be48-59a6236363f6",
     "showTitle": false,
     "tableResultSettingsMap": {},
     "title": ""
    }
   },
   "outputs": [
    {
     "output_type": "stream",
     "name": "stdout",
     "output_type": "stream",
     "text": [
      "Out[63]: pyspark.sql.dataframe.DataFrame"
     ]
    }
   ],
   "source": [
    "type(null_counts)"
   ]
  },
  {
   "cell_type": "code",
   "execution_count": 0,
   "metadata": {
    "application/vnd.databricks.v1+cell": {
     "cellMetadata": {},
     "inputWidgets": {},
     "nuid": "5158815d-b220-415d-9413-33560bbb22d3",
     "showTitle": false,
     "tableResultSettingsMap": {},
     "title": ""
    }
   },
   "outputs": [],
   "source": []
  }
 ],
 "metadata": {
  "application/vnd.databricks.v1+notebook": {
   "dashboards": [],
   "environmentMetadata": null,
   "language": "python",
   "notebookMetadata": {
    "pythonIndentUnit": 4
   },
   "notebookName": "start_on_pyspark",
   "widgets": {}
  }
 },
 "nbformat": 4,
 "nbformat_minor": 0
}
